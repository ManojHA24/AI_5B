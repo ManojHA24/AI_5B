{
  "nbformat": 4,
  "nbformat_minor": 0,
  "metadata": {
    "colab": {
      "name": "dfs_8Puzzle.ipynb",
      "provenance": [],
      "collapsed_sections": [],
      "authorship_tag": "ABX9TyP5/cdGTGlilCztIZPNkQlo"
    },
    "kernelspec": {
      "name": "python3",
      "display_name": "Python 3"
    },
    "language_info": {
      "name": "python"
    }
  },
  "cells": [
    {
      "cell_type": "code",
      "execution_count": 2,
      "metadata": {
        "colab": {
          "base_uri": "https://localhost:8080/"
        },
        "id": "9w-lymJwmn8z",
        "outputId": "75b16c91-a39f-4993-cb01-4c297e6c7c05"
      },
      "outputs": [
        {
          "output_type": "stream",
          "name": "stdout",
          "text": [
            "[1, 2, 3, -1, 4, 5, 6, 7, 8]\n",
            "[1, 2, 3, 4, -1, 5, 6, 7, 8]\n",
            "[1, 2, 3, 4, 5, -1, 6, 7, 8]\n",
            "success for dfs\n"
          ]
        }
      ],
      "source": [
        "def dfs(src,target):\n",
        "  stack=[]\n",
        "  stack.append(src)\n",
        "  explored1=[]\n",
        "  while len(stack)>0:\n",
        "    sors=stack.pop()\n",
        "    explored1.append(sors)\n",
        "    print(sors)\n",
        "    if(sors==target):\n",
        "      print(\"success for dfs\")\n",
        "      return\n",
        "\n",
        "    possible_moves_todo1=[]\n",
        "    possible_moves_todo1=possible_moves(sors,explored1)\n",
        "\n",
        "    for move in possible_moves_todo1:\n",
        "      if move not in explored1 and move not in stack:\n",
        "        stack.append(move)\n",
        "\n",
        "def possible_moves(state,visited_states): \n",
        "\n",
        "    b = state.index(-1)\n",
        "\n",
        "    d = []\n",
        "    \n",
        "    if b not in [0,1,2]: \n",
        "        d.append('u')\n",
        "    if b not in [6,7,8]: \n",
        "        d.append('d')\n",
        "    if b not in [0,3,6]: \n",
        "        d.append('l')\n",
        "    if b not in [2,5,8]: \n",
        "        d.append('r')\n",
        "        \n",
        "    pos_moves_it_can = []\n",
        "    \n",
        "    for i in d:\n",
        "        pos_moves_it_can.append(gen(state,i,b))\n",
        "        \n",
        "    return [move_it_can for move_it_can in pos_moves_it_can if move_it_can not in visited_states]\n",
        "def gen(state, m, b):\n",
        "    temp = state.copy()                              \n",
        "    \n",
        "    if m=='d':\n",
        "        temp[b+3],temp[b] = temp[b],temp[b+3]\n",
        "    \n",
        "    if m=='u':\n",
        "        temp[b-3],temp[b] = temp[b],temp[b-3]\n",
        "    \n",
        "    if m=='l':\n",
        "        temp[b-1],temp[b] = temp[b],temp[b-1]\n",
        "    \n",
        "    if m=='r':\n",
        "        temp[b+1],temp[b] = temp[b],temp[b+1]\n",
        "        \n",
        "\n",
        "    return temp\n",
        "src = [1,2,3,-1,4,5,6,7,8]\n",
        "target = [1,2,3,4,5,-1,6,7,8]         \n",
        "dfs(src, target)"
      ]
    }
  ]
}