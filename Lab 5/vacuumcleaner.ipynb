{
  "nbformat": 4,
  "nbformat_minor": 0,
  "metadata": {
    "colab": {
      "name": "vacuumcleaner.ipynb",
      "provenance": [],
      "collapsed_sections": [],
      "authorship_tag": "ABX9TyMtqC/DqybKKi9EtDdTrslG"
    },
    "kernelspec": {
      "name": "python3",
      "display_name": "Python 3"
    },
    "language_info": {
      "name": "python"
    }
  },
  "cells": [
    {
      "cell_type": "code",
      "execution_count": 4,
      "metadata": {
        "colab": {
          "base_uri": "https://localhost:8080/"
        },
        "id": "Uf1GSVB07hpo",
        "outputId": "3606648f-386f-4346-b23c-377772e3d55a"
      },
      "outputs": [
        {
          "output_type": "stream",
          "name": "stdout",
          "text": [
            "Enter state of each block\n",
            "1 1\n",
            "0 1\n",
            "\n",
            "|0|  1  \n",
            " 0   1  \n",
            "\n",
            " 0  |0| \n",
            " 0   1  \n",
            "\n",
            " 0   0  \n",
            " 0  |0| \n",
            "\n",
            " 0   0  \n",
            "|0|  0  \n",
            "\n",
            "cost5\n"
          ]
        }
      ],
      "source": [
        "def clean(floor):\n",
        "    row = len(floor)\n",
        "    col = len(floor[0])\n",
        "    cost=0\n",
        "    for i in range(0, row):\n",
        "        cost+=1\n",
        "        if(i%2 == 0):\n",
        "            for j in range(0, col):\n",
        "                if(floor[i][j] == 1):\n",
        "                    floor[i][j] = 0\n",
        "                    cost+=1\n",
        "                print_floor(floor, i, j)\n",
        "        else:\n",
        "            for j in range(col-1, -1, -1):\n",
        "                if(floor[i][j] == 1):\n",
        "                    floor[i][j] = 0\n",
        "                    cost+=1\n",
        "                print_floor(floor, i, j)\n",
        "    return cost\n",
        "\n",
        "def print_floor(floor, row, col):\n",
        "    for i in range(0, len(floor)):\n",
        "        for j in range(0, len(floor[0])):\n",
        "            if(i == row and j == col):\n",
        "                print(f\"|{floor[i][j]}|\", end=\" \")\n",
        "            else:\n",
        "                print(f\" {floor[i][j]} \", end=\" \")\n",
        "        print(end='\\n')\n",
        "    print(end='\\n')\n",
        "            \n",
        "def main():\n",
        "   # print(\"Enter no. of rows\")\n",
        "    m = 2 #int(input())\n",
        "   # print(\"Enter no.of columns\")\n",
        "    n = 2 #int(input())\n",
        "    floor = []\n",
        "    print(\"Enter state of each block\")\n",
        "    for i in range(0, m):\n",
        "        a = list(map(int, input().split(\" \")))\n",
        "        floor.append(a)\n",
        "    print()\n",
        "    cost=clean(floor)\n",
        "    print(\"cost\"+str(cost))\n",
        "\n",
        "main()"
      ]
    }
  ]
}